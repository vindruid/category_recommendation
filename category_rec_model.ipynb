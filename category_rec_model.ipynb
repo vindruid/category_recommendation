{
 "cells": [
  {
   "cell_type": "code",
   "execution_count": 1,
   "metadata": {},
   "outputs": [],
   "source": [
    "import pandas as pd\n",
    "import numpy as np\n",
    "from scipy import sparse\n",
    "import re\n",
    "import datetime as dt\n",
    "from sklearn.feature_extraction.text import CountVectorizer"
   ]
  },
  {
   "cell_type": "code",
   "execution_count": 2,
   "metadata": {},
   "outputs": [],
   "source": [
    "train_data = pd.read_csv('train.tsv', sep= '\\t')\n",
    "test_data = pd.read_csv('test.tsv', sep= '\\t')"
   ]
  },
  {
   "cell_type": "code",
   "execution_count": 3,
   "metadata": {},
   "outputs": [
    {
     "data": {
      "text/html": [
       "<div>\n",
       "<style>\n",
       "    .dataframe thead tr:only-child th {\n",
       "        text-align: right;\n",
       "    }\n",
       "\n",
       "    .dataframe thead th {\n",
       "        text-align: left;\n",
       "    }\n",
       "\n",
       "    .dataframe tbody tr th {\n",
       "        vertical-align: top;\n",
       "    }\n",
       "</style>\n",
       "<table border=\"1\" class=\"dataframe\">\n",
       "  <thead>\n",
       "    <tr style=\"text-align: right;\">\n",
       "      <th></th>\n",
       "      <th>train_id</th>\n",
       "      <th>name</th>\n",
       "      <th>item_condition_id</th>\n",
       "      <th>category_name</th>\n",
       "      <th>brand_name</th>\n",
       "      <th>price</th>\n",
       "      <th>shipping</th>\n",
       "      <th>item_description</th>\n",
       "    </tr>\n",
       "  </thead>\n",
       "  <tbody>\n",
       "    <tr>\n",
       "      <th>289832</th>\n",
       "      <td>289832</td>\n",
       "      <td>Retro 5 \"Laneys\"</td>\n",
       "      <td>2</td>\n",
       "      <td>Men/Shoes/Fashion Sneakers</td>\n",
       "      <td>Jordans</td>\n",
       "      <td>56.0</td>\n",
       "      <td>0</td>\n",
       "      <td>Size 7y Very Great Condition Condition 9/10 10...</td>\n",
       "    </tr>\n",
       "    <tr>\n",
       "      <th>532065</th>\n",
       "      <td>532065</td>\n",
       "      <td>Vintage Cavel Hall Constellation knives</td>\n",
       "      <td>3</td>\n",
       "      <td>Home/Kitchen &amp; Dining/Kitchen Knives &amp; Cutlery...</td>\n",
       "      <td>NaN</td>\n",
       "      <td>10.0</td>\n",
       "      <td>0</td>\n",
       "      <td>6 piece Cavel Hall Constellation steak knives ...</td>\n",
       "    </tr>\n",
       "    <tr>\n",
       "      <th>1355816</th>\n",
       "      <td>1355816</td>\n",
       "      <td>ND 3 Eyeshadow Palette Freeship</td>\n",
       "      <td>1</td>\n",
       "      <td>Beauty/Makeup/Eyes</td>\n",
       "      <td>NaN</td>\n",
       "      <td>19.0</td>\n",
       "      <td>1</td>\n",
       "      <td>Brand new never been used! Colors: Strange Dus...</td>\n",
       "    </tr>\n",
       "    <tr>\n",
       "      <th>388660</th>\n",
       "      <td>388660</td>\n",
       "      <td>Special bundle</td>\n",
       "      <td>3</td>\n",
       "      <td>Women/Women's Accessories/Hats</td>\n",
       "      <td>NaN</td>\n",
       "      <td>11.0</td>\n",
       "      <td>1</td>\n",
       "      <td>Jogger sweats &amp; blue forever 21 beanie</td>\n",
       "    </tr>\n",
       "    <tr>\n",
       "      <th>570850</th>\n",
       "      <td>570850</td>\n",
       "      <td>L.A. girl Pro Concealer</td>\n",
       "      <td>1</td>\n",
       "      <td>Beauty/Makeup/Face</td>\n",
       "      <td>Sephora</td>\n",
       "      <td>13.0</td>\n",
       "      <td>1</td>\n",
       "      <td>New L.A. girl HD Pro Concealer 1.GC981 Toast 1...</td>\n",
       "    </tr>\n",
       "    <tr>\n",
       "      <th>731536</th>\n",
       "      <td>731536</td>\n",
       "      <td>Black and White V Cut One Piece Swimsuit</td>\n",
       "      <td>2</td>\n",
       "      <td>Women/Swimwear/One-Piece</td>\n",
       "      <td>NaN</td>\n",
       "      <td>25.0</td>\n",
       "      <td>1</td>\n",
       "      <td>Black and White V Cut One piece Swimsuit! Hand...</td>\n",
       "    </tr>\n",
       "    <tr>\n",
       "      <th>392691</th>\n",
       "      <td>392691</td>\n",
       "      <td>Coach crossbody. Beige/nude</td>\n",
       "      <td>3</td>\n",
       "      <td>Women/Women's Handbags/Messenger &amp; Crossbody</td>\n",
       "      <td>Coach</td>\n",
       "      <td>24.0</td>\n",
       "      <td>0</td>\n",
       "      <td>No description yet</td>\n",
       "    </tr>\n",
       "    <tr>\n",
       "      <th>943271</th>\n",
       "      <td>943271</td>\n",
       "      <td>Black Lace HALTER BRALETTE large</td>\n",
       "      <td>1</td>\n",
       "      <td>Women/Underwear/Bras</td>\n",
       "      <td>NaN</td>\n",
       "      <td>14.0</td>\n",
       "      <td>1</td>\n",
       "      <td>Awesome NEW black lace halter bralette in a si...</td>\n",
       "    </tr>\n",
       "    <tr>\n",
       "      <th>39882</th>\n",
       "      <td>39882</td>\n",
       "      <td>3 jeans boy baby gap 0-3 monts</td>\n",
       "      <td>3</td>\n",
       "      <td>Kids/Boys 0-24 Mos/One-Pieces</td>\n",
       "      <td>Gap</td>\n",
       "      <td>18.0</td>\n",
       "      <td>1</td>\n",
       "      <td>Exellent conditions</td>\n",
       "    </tr>\n",
       "    <tr>\n",
       "      <th>462696</th>\n",
       "      <td>462696</td>\n",
       "      <td>Lisette leggings size small</td>\n",
       "      <td>2</td>\n",
       "      <td>Women/Athletic Apparel/Pants, Tights, Leggings</td>\n",
       "      <td>NaN</td>\n",
       "      <td>30.0</td>\n",
       "      <td>1</td>\n",
       "      <td>Fabletics legging. I took the tag off so I can...</td>\n",
       "    </tr>\n",
       "  </tbody>\n",
       "</table>\n",
       "</div>"
      ],
      "text/plain": [
       "         train_id                                      name  \\\n",
       "289832     289832                          Retro 5 \"Laneys\"   \n",
       "532065     532065   Vintage Cavel Hall Constellation knives   \n",
       "1355816   1355816           ND 3 Eyeshadow Palette Freeship   \n",
       "388660     388660                            Special bundle   \n",
       "570850     570850                   L.A. girl Pro Concealer   \n",
       "731536     731536  Black and White V Cut One Piece Swimsuit   \n",
       "392691     392691               Coach crossbody. Beige/nude   \n",
       "943271     943271          Black Lace HALTER BRALETTE large   \n",
       "39882       39882            3 jeans boy baby gap 0-3 monts   \n",
       "462696     462696               Lisette leggings size small   \n",
       "\n",
       "         item_condition_id                                      category_name  \\\n",
       "289832                   2                         Men/Shoes/Fashion Sneakers   \n",
       "532065                   3  Home/Kitchen & Dining/Kitchen Knives & Cutlery...   \n",
       "1355816                  1                                 Beauty/Makeup/Eyes   \n",
       "388660                   3                     Women/Women's Accessories/Hats   \n",
       "570850                   1                                 Beauty/Makeup/Face   \n",
       "731536                   2                           Women/Swimwear/One-Piece   \n",
       "392691                   3       Women/Women's Handbags/Messenger & Crossbody   \n",
       "943271                   1                               Women/Underwear/Bras   \n",
       "39882                    3                      Kids/Boys 0-24 Mos/One-Pieces   \n",
       "462696                   2     Women/Athletic Apparel/Pants, Tights, Leggings   \n",
       "\n",
       "        brand_name  price  shipping  \\\n",
       "289832     Jordans   56.0         0   \n",
       "532065         NaN   10.0         0   \n",
       "1355816        NaN   19.0         1   \n",
       "388660         NaN   11.0         1   \n",
       "570850     Sephora   13.0         1   \n",
       "731536         NaN   25.0         1   \n",
       "392691       Coach   24.0         0   \n",
       "943271         NaN   14.0         1   \n",
       "39882          Gap   18.0         1   \n",
       "462696         NaN   30.0         1   \n",
       "\n",
       "                                          item_description  \n",
       "289832   Size 7y Very Great Condition Condition 9/10 10...  \n",
       "532065   6 piece Cavel Hall Constellation steak knives ...  \n",
       "1355816  Brand new never been used! Colors: Strange Dus...  \n",
       "388660              Jogger sweats & blue forever 21 beanie  \n",
       "570850   New L.A. girl HD Pro Concealer 1.GC981 Toast 1...  \n",
       "731536   Black and White V Cut One piece Swimsuit! Hand...  \n",
       "392691                                  No description yet  \n",
       "943271   Awesome NEW black lace halter bralette in a si...  \n",
       "39882                                  Exellent conditions  \n",
       "462696   Fabletics legging. I took the tag off so I can...  "
      ]
     },
     "execution_count": 3,
     "metadata": {},
     "output_type": "execute_result"
    }
   ],
   "source": [
    "train_data.sample(10)"
   ]
  },
  {
   "cell_type": "code",
   "execution_count": 4,
   "metadata": {},
   "outputs": [],
   "source": [
    "# get top n category based on the number of rows\n",
    "n_top_category = 40\n",
    "category_list = list(train_data.category_name.value_counts()[:n_top_category].index)"
   ]
  },
  {
   "cell_type": "code",
   "execution_count": 5,
   "metadata": {},
   "outputs": [],
   "source": [
    "#filter the dataset to n top category only \n",
    "train_data = train_data.loc[train_data.category_name.isin(category_list)]\n",
    "test_data = test_data.loc[test_data.category_name.isin(category_list)]"
   ]
  },
  {
   "cell_type": "code",
   "execution_count": 6,
   "metadata": {},
   "outputs": [],
   "source": [
    "df_aggregated = pd.DataFrame(train_data.groupby('category_name')['name'].agg(lambda s: ' '.join(s)))\n",
    "df_aggregated = df_aggregated.reset_index()\n"
   ]
  },
  {
   "cell_type": "code",
   "execution_count": 7,
   "metadata": {
    "scrolled": true
   },
   "outputs": [
    {
     "data": {
      "text/html": [
       "<div>\n",
       "<style>\n",
       "    .dataframe thead tr:only-child th {\n",
       "        text-align: right;\n",
       "    }\n",
       "\n",
       "    .dataframe thead th {\n",
       "        text-align: left;\n",
       "    }\n",
       "\n",
       "    .dataframe tbody tr th {\n",
       "        vertical-align: top;\n",
       "    }\n",
       "</style>\n",
       "<table border=\"1\" class=\"dataframe\">\n",
       "  <thead>\n",
       "    <tr style=\"text-align: right;\">\n",
       "      <th></th>\n",
       "      <th>category_name</th>\n",
       "      <th>name</th>\n",
       "    </tr>\n",
       "  </thead>\n",
       "  <tbody>\n",
       "    <tr>\n",
       "      <th>0</th>\n",
       "      <td>Beauty/Fragrance/Women</td>\n",
       "      <td>New vs pi k body mists Marc Jacobs Honey Pink ...</td>\n",
       "    </tr>\n",
       "    <tr>\n",
       "      <th>1</th>\n",
       "      <td>Beauty/Makeup/Eyes</td>\n",
       "      <td>Glitter Eyeshadow Too Faced Better Than Sex Ma...</td>\n",
       "    </tr>\n",
       "    <tr>\n",
       "      <th>2</th>\n",
       "      <td>Beauty/Makeup/Face</td>\n",
       "      <td>Smashbox primer Apricot beige stick foundation...</td>\n",
       "    </tr>\n",
       "    <tr>\n",
       "      <th>3</th>\n",
       "      <td>Beauty/Makeup/Lips</td>\n",
       "      <td>. BBW Mentha Lip Balms Bare minerals Nude Matt...</td>\n",
       "    </tr>\n",
       "    <tr>\n",
       "      <th>4</th>\n",
       "      <td>Beauty/Makeup/Makeup Palettes</td>\n",
       "      <td>Too Faced Limited \"Merry Macaroons\" Realher Ev...</td>\n",
       "    </tr>\n",
       "    <tr>\n",
       "      <th>5</th>\n",
       "      <td>Beauty/Skin Care/Body</td>\n",
       "      <td>Scentsy Bath Tabs Bath &amp; body works cool citru...</td>\n",
       "    </tr>\n",
       "    <tr>\n",
       "      <th>6</th>\n",
       "      <td>Beauty/Skin Care/Face</td>\n",
       "      <td>Caudalíe Beauty Elixir Spray lots of Korean Na...</td>\n",
       "    </tr>\n",
       "    <tr>\n",
       "      <th>7</th>\n",
       "      <td>Electronics/Cell Phones &amp; Accessories/Cases, C...</td>\n",
       "      <td>Otterbox Defender iPhone 6 Plus/6s Plus Iphone...</td>\n",
       "    </tr>\n",
       "    <tr>\n",
       "      <th>8</th>\n",
       "      <td>Electronics/Cell Phones &amp; Accessories/Cell Pho...</td>\n",
       "      <td>Smart watch for android and iOS NEW IN BOX Bel...</td>\n",
       "    </tr>\n",
       "    <tr>\n",
       "      <th>9</th>\n",
       "      <td>Electronics/Video Games &amp; Consoles/Games</td>\n",
       "      <td>Goosebumps HorrorLand DS Game NBA 2k14 BRAND N...</td>\n",
       "    </tr>\n",
       "  </tbody>\n",
       "</table>\n",
       "</div>"
      ],
      "text/plain": [
       "                                       category_name  \\\n",
       "0                             Beauty/Fragrance/Women   \n",
       "1                                 Beauty/Makeup/Eyes   \n",
       "2                                 Beauty/Makeup/Face   \n",
       "3                                 Beauty/Makeup/Lips   \n",
       "4                      Beauty/Makeup/Makeup Palettes   \n",
       "5                              Beauty/Skin Care/Body   \n",
       "6                              Beauty/Skin Care/Face   \n",
       "7  Electronics/Cell Phones & Accessories/Cases, C...   \n",
       "8  Electronics/Cell Phones & Accessories/Cell Pho...   \n",
       "9           Electronics/Video Games & Consoles/Games   \n",
       "\n",
       "                                                name  \n",
       "0  New vs pi k body mists Marc Jacobs Honey Pink ...  \n",
       "1  Glitter Eyeshadow Too Faced Better Than Sex Ma...  \n",
       "2  Smashbox primer Apricot beige stick foundation...  \n",
       "3  . BBW Mentha Lip Balms Bare minerals Nude Matt...  \n",
       "4  Too Faced Limited \"Merry Macaroons\" Realher Ev...  \n",
       "5  Scentsy Bath Tabs Bath & body works cool citru...  \n",
       "6  Caudalíe Beauty Elixir Spray lots of Korean Na...  \n",
       "7  Otterbox Defender iPhone 6 Plus/6s Plus Iphone...  \n",
       "8  Smart watch for android and iOS NEW IN BOX Bel...  \n",
       "9  Goosebumps HorrorLand DS Game NBA 2k14 BRAND N...  "
      ]
     },
     "execution_count": 7,
     "metadata": {},
     "output_type": "execute_result"
    }
   ],
   "source": [
    "df_aggregated[:10]"
   ]
  },
  {
   "cell_type": "code",
   "execution_count": 8,
   "metadata": {},
   "outputs": [],
   "source": [
    "color_stopwords = ['red','green','blue','yellow','magenta','pink','brown','white','black']\n",
    "english_stopwords = ['and', 'or', 'with', 'the', 'on', 'in', 'new']\n",
    "\n",
    "stopwords = color_stopwords + english_stopwords\n",
    "\n",
    "vectorizer = CountVectorizer(min_df= 20, max_df = 0.9, stop_words= stopwords, max_features= 7000,\n",
    "                                 token_pattern= r\"\\b\\w+\\b\")"
   ]
  },
  {
   "cell_type": "code",
   "execution_count": 9,
   "metadata": {
    "scrolled": true
   },
   "outputs": [
    {
     "data": {
      "text/plain": [
       "CountVectorizer(analyzer='word', binary=False, decode_error='strict',\n",
       "        dtype=<class 'numpy.int64'>, encoding='utf-8', input='content',\n",
       "        lowercase=True, max_df=0.9, max_features=7000, min_df=20,\n",
       "        ngram_range=(1, 1), preprocessor=None,\n",
       "        stop_words=['red', 'green', 'blue', 'yellow', 'magenta', 'pink', 'brown', 'white', 'black', 'and', 'or', 'with', 'the', 'on', 'in', 'new'],\n",
       "        strip_accents=None, token_pattern='\\\\b\\\\w+\\\\b', tokenizer=None,\n",
       "        vocabulary=None)"
      ]
     },
     "execution_count": 9,
     "metadata": {},
     "output_type": "execute_result"
    }
   ],
   "source": [
    "vectorizer.fit(train_data['name'])"
   ]
  },
  {
   "cell_type": "code",
   "execution_count": 10,
   "metadata": {},
   "outputs": [
    {
     "data": {
      "text/plain": [
       "7000"
      ]
     },
     "execution_count": 10,
     "metadata": {},
     "output_type": "execute_result"
    }
   ],
   "source": [
    "len(vectorizer.vocabulary_)"
   ]
  },
  {
   "cell_type": "code",
   "execution_count": 11,
   "metadata": {},
   "outputs": [],
   "source": [
    "vocab = vectorizer.vocabulary_"
   ]
  },
  {
   "cell_type": "code",
   "execution_count": 12,
   "metadata": {},
   "outputs": [],
   "source": [
    "vectorizer_agg = CountVectorizer(max_df = 0.9, ngram_range= (1,3), stop_words= stopwords, \n",
    "                                 vocabulary= vocab, \n",
    "                                 token_pattern= r\"\\b\\w+\\b\")"
   ]
  },
  {
   "cell_type": "code",
   "execution_count": 13,
   "metadata": {},
   "outputs": [],
   "source": [
    "X = vectorizer_agg.fit_transform(df_aggregated['name'])"
   ]
  },
  {
   "cell_type": "code",
   "execution_count": 14,
   "metadata": {},
   "outputs": [],
   "source": [
    "vocab_inv = {value:key for key,value in vectorizer.vocabulary_.items()}"
   ]
  },
  {
   "cell_type": "code",
   "execution_count": 15,
   "metadata": {},
   "outputs": [],
   "source": [
    "dict_idx_cat = {idx:cat for idx,cat in enumerate(list(df_aggregated['category_name']))}"
   ]
  },
  {
   "cell_type": "code",
   "execution_count": 16,
   "metadata": {},
   "outputs": [],
   "source": [
    "df_count = pd.DataFrame(X.toarray())"
   ]
  },
  {
   "cell_type": "code",
   "execution_count": 17,
   "metadata": {
    "scrolled": true
   },
   "outputs": [],
   "source": [
    "df_prob = df_count / df_count.sum(axis = 0)"
   ]
  },
  {
   "cell_type": "code",
   "execution_count": 18,
   "metadata": {},
   "outputs": [],
   "source": [
    "prob_matrix = sparse.csr_matrix(df_prob)"
   ]
  },
  {
   "cell_type": "code",
   "execution_count": 19,
   "metadata": {
    "scrolled": true
   },
   "outputs": [],
   "source": [
    "def predict_single(item_name):\n",
    "    input_matrix = vectorizer_agg.transform([item_name])\n",
    "    predict_vector = np.dot(input_matrix, prob_matrix.T).toarray()\n",
    "    if predict_vector.sum() == 0:\n",
    "        return None\n",
    "    else:\n",
    "        max_index = np.argmax(predict_vector)\n",
    "        cat_name = dict_idx_cat[max_index]\n",
    "        return cat_name"
   ]
  },
  {
   "cell_type": "code",
   "execution_count": 20,
   "metadata": {},
   "outputs": [
    {
     "data": {
      "text/plain": [
       "'Electronics/Video Games & Consoles/Games'"
      ]
     },
     "execution_count": 20,
     "metadata": {},
     "output_type": "execute_result"
    }
   ],
   "source": [
    "predict_single('ps4 slim')"
   ]
  },
  {
   "cell_type": "code",
   "execution_count": 21,
   "metadata": {},
   "outputs": [],
   "source": [
    "def predict_batch(list_item_name):\n",
    "    input_matrix = vectorizer_agg.transform(list_item_name)\n",
    "    predict_vector = np.dot(input_matrix, prob_matrix.T).toarray()\n",
    "    \n",
    "    max_index_list = np.argmax(predict_vector, axis = 1)\n",
    "    cat_name_list = [dict_idx_cat[max_index] for max_index in max_index_list]\n",
    "    \n",
    "    null_list = list(predict_vector.sum(axis = 1) != 0)\n",
    "    \n",
    "    result = [i*int(j) for i,j in zip(cat_name_list,null_list)]\n",
    "    \n",
    "    return result"
   ]
  },
  {
   "cell_type": "code",
   "execution_count": 22,
   "metadata": {},
   "outputs": [
    {
     "name": "stdout",
     "output_type": "stream",
     "text": [
      "Total test data:  340814\n",
      "Probability matrix shape:  (40, 7000)\n",
      "total time:  5 seconds\n",
      "accuracy:  0.8331171841532331\n"
     ]
    }
   ],
   "source": [
    "print(\"Total test data: \", len(test_data))\n",
    "print(\"Probability matrix shape: \", prob_matrix.shape)\n",
    "\n",
    "start_time = dt.datetime.now()\n",
    "test_data['category_prediction'] = predict_batch(test_data['category_name'])\n",
    "end_time = dt.datetime.now()\n",
    "\n",
    "print(\"total time: \", (end_time - start_time).seconds, \"seconds\")\n",
    "print(\"accuracy: \", (test_data['category_prediction'] == test_data['category_name']).mean())"
   ]
  }
 ],
 "metadata": {
  "kernelspec": {
   "display_name": "Python 3",
   "language": "python",
   "name": "python3"
  },
  "language_info": {
   "codemirror_mode": {
    "name": "ipython",
    "version": 3
   },
   "file_extension": ".py",
   "mimetype": "text/x-python",
   "name": "python",
   "nbconvert_exporter": "python",
   "pygments_lexer": "ipython3",
   "version": "3.6.3"
  }
 },
 "nbformat": 4,
 "nbformat_minor": 1
}
